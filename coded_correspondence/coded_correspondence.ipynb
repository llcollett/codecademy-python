{
 "cells": [
  {
   "cell_type": "markdown",
   "metadata": {},
   "source": [
    "# Casual Coded Correspondence: The Project\n",
    "\n",
    "In this project, you will be working to code and decode various messages between you and your fictional cryptography enthusiast pen pal Vishal. You and Vishal have been exchanging letters for quite some time now and have started to provide a puzzle in each one of your letters.  Here is his most recent letter:\n",
    "\n",
    "     Hey there! How have you been? I've been great! I just learned about this really cool type of cipher called a  Caesar Cipher. Here's how it works: You take your message, something like \"hello\" and then you shift all of the letters by a certain offset. For example, if I chose an offset of 3 and a message of \"hello\", I would code my message by shifting each letter 3 places to the left (with respect to the alphabet). So \"h\" becomes \"e\", \"e\" becomes, \"b\", \"l\" becomes \"i\", and \"o\" becomes \"l\". Then I have my coded message,\"ebiil\"! Now I can send you my message and the offset and you can decode it. The best thing is that Julius Caesar himself used this cipher, that's why it's called the Caesar Cipher! Isn't that so cool! Okay, now I'm going to send you a longer coded message that you have to decode yourself!\n",
    "    \n",
    "        xuo jxuhu! jxyi yi qd unqcfbu ev q squiqh syfxuh. muhu oek qrbu je tusetu yj? y xefu ie! iudt cu q cuiiqwu rqsa myjx jxu iqcu evviuj!\n",
    "    \n",
    "    This message has an offset of 10. Can you decode it?\n",
    "    \n",
    "\n",
    "#### Step 1: Decode Vishal's Message\n",
    "In the cell below, use your Python skills to decode Vishal's message and print the result. Hint: you can account for shifts that go past the end of the alphabet using the modulus operator, but I'll let you figure out how!"
   ]
  },
  {
   "cell_type": "code",
   "execution_count": 19,
   "metadata": {},
   "outputs": [
    {
     "name": "stdout",
     "output_type": "stream",
     "text": [
      "hey there! this is an example of a caesar cipher. were you able to decode it? i hope so! send me a message back with the same offset!\n"
     ]
    }
   ],
   "source": [
    "# define the alphabet as a string\n",
    "alphabet = \"abcdefghijklmnopqrstuvwxyz\"\n",
    "\n",
    "# define string\n",
    "cipher = \"xuo jxuhu! jxyi yi qd unqcfbu ev q squiqh syfxuh. muhu oek qrbu je tusetu yj? y xefu ie! iudt cu q cuiiqwu rqsa myjx jxu iqcu evviuj!\"\n",
    "\n",
    "# decode string\n",
    "decoded_cipher = \"\"\n",
    "for i in cipher:\n",
    "    if i in alphabet:\n",
    "        char = alphabet.index(i)\n",
    "        offset = (char + 10) % len(alphabet)\n",
    "        uncoded_char = alphabet[offset]\n",
    "    else:\n",
    "        uncoded_char = i\n",
    "    decoded_cipher += uncoded_char\n",
    "\n",
    "print(decoded_cipher)"
   ]
  },
  {
   "cell_type": "markdown",
   "metadata": {},
   "source": [
    "#### Step 2: Send Vishal a Coded Message\n",
    "Great job! Now send Vishal back a message using the same offset. Your message can be anything you want! Remember, coding happens in opposite direction of decoding."
   ]
  },
  {
   "cell_type": "code",
   "execution_count": 21,
   "metadata": {},
   "outputs": [
    {
     "name": "stdout",
     "output_type": "stream",
     "text": [
      "y medtuh mxujxuh y mybb wuj jxyi zer qj ele, her mqi huqbbo dysu huvuhhydw cu. y mekbt ru wbqt je buqlu jxu kdyluhiyjo.\n"
     ]
    }
   ],
   "source": [
    "# define the alphabet as a string\n",
    "alphabet = \"abcdefghijklmnopqrstuvwxyz\"\n",
    "\n",
    "# define my string\n",
    "my_string = \"i wonder whether i will get this job at ovo, rob was really nice referring me. i would be glad to leave the university.\"\n",
    "\n",
    "# encode string\n",
    "coded_cipher = \"\"\n",
    "for i in my_string:\n",
    "    if i in alphabet:\n",
    "        char = alphabet.index(i)\n",
    "        offset = (char - 10) % len(alphabet)\n",
    "        coded_char = alphabet[offset]\n",
    "    else:\n",
    "        coded_char = i\n",
    "    coded_cipher += coded_char\n",
    "\n",
    "print(coded_cipher)"
   ]
  },
  {
   "cell_type": "markdown",
   "metadata": {},
   "source": [
    "#### Step 3: Make functions for decoding and coding \n",
    "\n",
    "Vishal sent over another reply, this time with two coded messages!\n",
    "    \n",
    "    You're getting the hang of this! Okay here are two more messages, the first one is coded just like before with  an offset of ten, and it contains the hint for decoding the second message!\n",
    "    \n",
    "    First message:\n",
    "    \n",
    "        jxu evviuj veh jxu iusedt cuiiqwu yi vekhjuud.\n",
    "        \n",
    "    Second message:\n",
    "    \n",
    "        bqdradyuzs ygxfubxq omqemd oubtqde fa oapq kagd yqeemsqe ue qhqz yadq eqogdq!\n",
    "    \n",
    "Decode both of these messages. \n",
    "\n",
    "If you haven't already, define two functions `decoder(message, offset)` and `coder(message, offset)` that can be used to quickly decode and code messages given any offset."
   ]
  },
  {
   "cell_type": "code",
   "execution_count": 27,
   "metadata": {},
   "outputs": [
    {
     "name": "stdout",
     "output_type": "stream",
     "text": [
      "byffi vlinbylm uhx mcmnylm uhx mcvfcham\n",
      "the offset for the second message is fourteen.\n",
      "performing multiple caesar ciphers to code your messages is even more secure!\n"
     ]
    }
   ],
   "source": [
    "def decoder(message, offset):\n",
    "    alphabet = \"abcdefghijklmnopqrstuvwxyz\"\n",
    "    decoded = \"\"\n",
    "    for i in message:\n",
    "        if i in alphabet:\n",
    "            char = alphabet.index(i)\n",
    "            offsetted = (char + offset) % len(alphabet)\n",
    "            uncoded_char = alphabet[offsetted]\n",
    "        else:\n",
    "            uncoded_char = i\n",
    "        decoded += uncoded_char\n",
    "    return decoded\n",
    "\n",
    "# test case\n",
    "print(decoder(\"hello brothers and sisters and siblings\", 20))\n",
    "\n",
    "# example cases\n",
    "print(decoder(\"jxu evviuj veh jxu iusedt cuiiqwu yi vekhjuud.\", 10))\n",
    "print(decoder(\"bqdradyuzs ygxfubxq omqemd oubtqde fa oapq kagd yqeemsqe ue qhqz yadq eqogdq!\", 14))"
   ]
  },
  {
   "cell_type": "code",
   "execution_count": 25,
   "metadata": {},
   "outputs": [
    {
     "name": "stdout",
     "output_type": "stream",
     "text": [
      "hello brothers and sisters and siblings\n"
     ]
    }
   ],
   "source": [
    "def coder(message, offset):\n",
    "    alphabet = \"abcdefghijklmnopqrstuvwxyz\"\n",
    "    coded = \"\"\n",
    "    for i in message:\n",
    "        if i in alphabet:\n",
    "            char = alphabet.index(i)\n",
    "            offsetted = (char - offset) % len(alphabet)\n",
    "            coded_char = alphabet[offsetted]\n",
    "        else:\n",
    "            coded_char = i\n",
    "        coded += coded_char\n",
    "    return coded\n",
    "\n",
    "# test case\n",
    "print(coder(\"byffi vlinbylm uhx mcmnylm uhx mcvfcham\", 20))"
   ]
  },
  {
   "cell_type": "markdown",
   "metadata": {},
   "source": [
    "#### Step 4: Solving a Caesar Cipher without knowing the shift value\n",
    "\n",
    "Awesome work! While you were working to decode his last two messages, Vishal sent over another letter! He's really been bitten by the crytpo-bug. Read it and see what interesting task he has lined up for you this time.\n",
    "\n",
    "            Hello again friend! I knew you would love the Caesar Cipher, it's a cool simple way to encrypt messages. Did you know that back in Caesar's time, it was considered a very secure way of communication and it took a lot of effort to crack if you were unaware of the value of the shift? That's all changed with computers! Now we can brute force these kinds of ciphers very quickly, as I'm sure you can imagine.\n",
    "            \n",
    "            To test your cryptography skills, this next coded message is going to be harder than the last couple to crack. It's still going to be coded with a Caesar Cipher but this time I'm not going to tell you the value of   the shift. You'll have to brute force it yourself.\n",
    "            \n",
    "            Here's the coded message:\n",
    "            \n",
    "            vhfinmxkl atox kxgwxkxw tee hy maxlx hew vbiaxkl tl hulhexmx. px'ee atox mh kxteer lmxi ni hnk ztfx by px ptgm mh dxxi hnk fxlltzxl ltyx.\n",
    "            \n",
    "            Good luck!\n",
    "            \n",
    "Decode Vishal's most recent message and see what it says!"
   ]
  },
  {
   "cell_type": "code",
   "execution_count": 38,
   "metadata": {},
   "outputs": [
    {
     "name": "stdout",
     "output_type": "stream",
     "text": [
      "This is the message decoded is with offset: 0\n",
      "vgzs cn xnt vzms?!\n",
      "\n",
      "This is the message decoded is with offset: 1\n",
      "what do you want?!\n",
      "\n",
      "This is the message decoded is with offset: 2\n",
      "xibu ep zpv xbou?!\n",
      "\n",
      "This is the message decoded is with offset: 3\n",
      "yjcv fq aqw ycpv?!\n",
      "\n",
      "This is the message decoded is with offset: 4\n",
      "zkdw gr brx zdqw?!\n",
      "\n",
      "This is the message decoded is with offset: 5\n",
      "alex hs csy aerx?!\n",
      "\n",
      "This is the message decoded is with offset: 6\n",
      "bmfy it dtz bfsy?!\n",
      "\n",
      "This is the message decoded is with offset: 7\n",
      "cngz ju eua cgtz?!\n",
      "\n",
      "This is the message decoded is with offset: 8\n",
      "doha kv fvb dhua?!\n",
      "\n",
      "This is the message decoded is with offset: 9\n",
      "epib lw gwc eivb?!\n",
      "\n",
      "This is the message decoded is with offset: 10\n",
      "fqjc mx hxd fjwc?!\n",
      "\n",
      "This is the message decoded is with offset: 11\n",
      "grkd ny iye gkxd?!\n",
      "\n",
      "This is the message decoded is with offset: 12\n",
      "hsle oz jzf hlye?!\n",
      "\n",
      "This is the message decoded is with offset: 13\n",
      "itmf pa kag imzf?!\n",
      "\n",
      "This is the message decoded is with offset: 14\n",
      "jung qb lbh jnag?!\n",
      "\n",
      "This is the message decoded is with offset: 15\n",
      "kvoh rc mci kobh?!\n",
      "\n",
      "This is the message decoded is with offset: 16\n",
      "lwpi sd ndj lpci?!\n",
      "\n",
      "This is the message decoded is with offset: 17\n",
      "mxqj te oek mqdj?!\n",
      "\n",
      "This is the message decoded is with offset: 18\n",
      "nyrk uf pfl nrek?!\n",
      "\n",
      "This is the message decoded is with offset: 19\n",
      "ozsl vg qgm osfl?!\n",
      "\n",
      "This is the message decoded is with offset: 20\n",
      "patm wh rhn ptgm?!\n",
      "\n",
      "This is the message decoded is with offset: 21\n",
      "qbun xi sio quhn?!\n",
      "\n",
      "This is the message decoded is with offset: 22\n",
      "rcvo yj tjp rvio?!\n",
      "\n",
      "This is the message decoded is with offset: 23\n",
      "sdwp zk ukq swjp?!\n",
      "\n",
      "This is the message decoded is with offset: 24\n",
      "texq al vlr txkq?!\n",
      "\n",
      "This is the message decoded is with offset: 25\n",
      "ufyr bm wms uylr?!\n",
      "\n",
      "None\n",
      "This is the message decoded is with offset: 0\n",
      "vhfinmxkl atox kxgwxkxw tee hy maxlx hew vbiaxkl tl hulhexmx. px'ee atox mh kxteer lmxi ni hnk ztfx by px ptgm mh dxxi hnk fxlltzxl ltyx.\n",
      "\n",
      "This is the message decoded is with offset: 1\n",
      "wigjonylm bupy lyhxylyx uff iz nbymy ifx wcjbylm um ivmifyny. qy'ff bupy ni lyuffs mnyj oj iol augy cz qy quhn ni eyyj iol gymmuaym muzy.\n",
      "\n",
      "This is the message decoded is with offset: 2\n",
      "xjhkpozmn cvqz mziyzmzy vgg ja ocznz jgy xdkczmn vn jwnjgzoz. rz'gg cvqz oj mzvggt nozk pk jpm bvhz da rz rvio oj fzzk jpm hznnvbzn nvaz.\n",
      "\n",
      "This is the message decoded is with offset: 3\n",
      "ykilqpano dwra najzanaz whh kb pdaoa khz yeldano wo kxokhapa. sa'hh dwra pk nawhhu opal ql kqn cwia eb sa swjp pk gaal kqn iaoowcao owba.\n",
      "\n",
      "This is the message decoded is with offset: 4\n",
      "zljmrqbop exsb obkaboba xii lc qebpb lia zfmebop xp lyplibqb. tb'ii exsb ql obxiiv pqbm rm lro dxjb fc tb txkq ql hbbm lro jbppxdbp pxcb.\n",
      "\n",
      "This is the message decoded is with offset: 5\n",
      "amknsrcpq fytc pclbcpcb yjj md rfcqc mjb agnfcpq yq mzqmjcrc. uc'jj fytc rm pcyjjw qrcn sn msp eykc gd uc uylr rm iccn msp kcqqyecq qydc.\n",
      "\n",
      "This is the message decoded is with offset: 6\n",
      "bnlotsdqr gzud qdmcdqdc zkk ne sgdrd nkc bhogdqr zr narnkdsd. vd'kk gzud sn qdzkkx rsdo to ntq fzld he vd vzms sn jddo ntq ldrrzfdr rzed.\n",
      "\n",
      "This is the message decoded is with offset: 7\n",
      "computers have rendered all of these old ciphers as obsolete. we'll have to really step up our game if we want to keep our messages safe.\n",
      "\n",
      "This is the message decoded is with offset: 8\n",
      "dpnqvufst ibwf sfoefsfe bmm pg uiftf pme djqifst bt pctpmfuf. xf'mm ibwf up sfbmmz tufq vq pvs hbnf jg xf xbou up lffq pvs nfttbhft tbgf.\n",
      "\n",
      "This is the message decoded is with offset: 9\n",
      "eqorwvgtu jcxg tgpfgtgf cnn qh vjgug qnf ekrjgtu cu qduqngvg. yg'nn jcxg vq tgcnna uvgr wr qwt icog kh yg ycpv vq mggr qwt oguucigu uchg.\n",
      "\n",
      "This is the message decoded is with offset: 10\n",
      "frpsxwhuv kdyh uhqghuhg doo ri wkhvh rog flskhuv dv revrohwh. zh'oo kdyh wr uhdoob vwhs xs rxu jdph li zh zdqw wr nhhs rxu phvvdjhv vdih.\n",
      "\n",
      "This is the message decoded is with offset: 11\n",
      "gsqtyxivw lezi virhivih epp sj xliwi sph gmtlivw ew sfwspixi. ai'pp lezi xs vieppc wxit yt syv keqi mj ai aerx xs oiit syv qiwwekiw weji.\n",
      "\n",
      "This is the message decoded is with offset: 12\n",
      "htruzyjwx mfaj wjsijwji fqq tk ymjxj tqi hnumjwx fx tgxtqjyj. bj'qq mfaj yt wjfqqd xyju zu tzw lfrj nk bj bfsy yt pjju tzw rjxxfljx xfkj.\n",
      "\n",
      "This is the message decoded is with offset: 13\n",
      "iusvazkxy ngbk xktjkxkj grr ul znkyk urj iovnkxy gy uhyurkzk. ck'rr ngbk zu xkgrre yzkv av uax mgsk ol ck cgtz zu qkkv uax skyygmky yglk.\n",
      "\n",
      "This is the message decoded is with offset: 14\n",
      "jvtwbalyz ohcl yluklylk hss vm aolzl vsk jpwolyz hz vizvslal. dl'ss ohcl av ylhssf zalw bw vby nhtl pm dl dhua av rllw vby tlzzhnlz zhml.\n",
      "\n",
      "This is the message decoded is with offset: 15\n",
      "kwuxcbmza pidm zmvlmzml itt wn bpmam wtl kqxpmza ia wjawtmbm. em'tt pidm bw zmittg abmx cx wcz oium qn em eivb bw smmx wcz umaaioma ainm.\n",
      "\n",
      "This is the message decoded is with offset: 16\n",
      "lxvydcnab qjen anwmnanm juu xo cqnbn xum lryqnab jb xkbxuncn. fn'uu qjen cx anjuuh bcny dy xda pjvn ro fn fjwc cx tnny xda vnbbjpnb bjon.\n",
      "\n",
      "This is the message decoded is with offset: 17\n",
      "mywzedobc rkfo boxnobon kvv yp droco yvn mszrobc kc ylcyvodo. go'vv rkfo dy bokvvi cdoz ez yeb qkwo sp go gkxd dy uooz yeb wocckqoc ckpo.\n",
      "\n",
      "This is the message decoded is with offset: 18\n",
      "nzxafepcd slgp cpyopcpo lww zq espdp zwo ntaspcd ld zmdzwpep. hp'ww slgp ez cplwwj depa fa zfc rlxp tq hp hlye ez vppa zfc xpddlrpd dlqp.\n",
      "\n",
      "This is the message decoded is with offset: 19\n",
      "oaybgfqde tmhq dqzpqdqp mxx ar ftqeq axp oubtqde me aneaxqfq. iq'xx tmhq fa dqmxxk efqb gb agd smyq ur iq imzf fa wqqb agd yqeemsqe emrq.\n",
      "\n",
      "This is the message decoded is with offset: 20\n",
      "pbzchgref unir eraqrerq nyy bs gurfr byq pvcuref nf bofbyrgr. jr'yy unir gb ernyyl fgrc hc bhe tnzr vs jr jnag gb xrrc bhe zrffntrf fnsr.\n",
      "\n",
      "This is the message decoded is with offset: 21\n",
      "qcadihsfg vojs fsbrsfsr ozz ct hvsgs czr qwdvsfg og cpgczshs. ks'zz vojs hc fsozzm ghsd id cif uoas wt ks kobh hc yssd cif asggousg gots.\n",
      "\n",
      "This is the message decoded is with offset: 22\n",
      "rdbejitgh wpkt gtcstgts paa du iwtht das rxewtgh ph dqhdatit. lt'aa wpkt id gtpaan hite je djg vpbt xu lt lpci id ztte djg bthhpvth hput.\n",
      "\n",
      "This is the message decoded is with offset: 23\n",
      "secfkjuhi xqlu hudtuhut qbb ev jxuiu ebt syfxuhi qi eriebuju. mu'bb xqlu je huqbbo ijuf kf ekh wqcu yv mu mqdj je auuf ekh cuiiqwui iqvu.\n",
      "\n",
      "This is the message decoded is with offset: 24\n",
      "tfdglkvij yrmv iveuvivu rcc fw kyvjv fcu tzgyvij rj fsjfcvkv. nv'cc yrmv kf ivrccp jkvg lg fli xrdv zw nv nrek kf bvvg fli dvjjrxvj jrwv.\n",
      "\n",
      "This is the message decoded is with offset: 25\n",
      "ugehmlwjk zsnw jwfvwjwv sdd gx lzwkw gdv uahzwjk sk gtkgdwlw. ow'dd zsnw lg jwsddq klwh mh gmj ysew ax ow osfl lg cwwh gmj ewkksywk ksxw.\n",
      "\n",
      "None\n"
     ]
    }
   ],
   "source": [
    "# define function to brute force caeser cipher\n",
    "def any_offset_decoder(message):\n",
    "    # define alphabet\n",
    "    alphabet = \"abcdefghijklmnopqrstuvwxyz\"\n",
    "    \n",
    "    # loop through all lengths of offsets\n",
    "    for offset in range(len(alphabet)):\n",
    "        # empty string for decoded characters to be concatenated\n",
    "        decoded = \"\"\n",
    "        for message_char in message:\n",
    "            if message_char in alphabet:\n",
    "                index = alphabet.index(message_char)\n",
    "                offsetted = (index + offset) % len(alphabet)\n",
    "                decoded_char = alphabet[offsetted]\n",
    "            else:\n",
    "                decoded_char = message_char\n",
    "            decoded += decoded_char\n",
    "        print(\"This is the message decoded is with offset: \" + str(offset) + \"\\n\" + decoded + \"\\n\")\n",
    "\n",
    "# test case\n",
    "print(any_offset_decoder(\"vgzs cn xnt vzms?!\"))\n",
    "\n",
    "# example case\n",
    "print(any_offset_decoder(\"vhfinmxkl atox kxgwxkxw tee hy maxlx hew vbiaxkl tl hulhexmx. px'ee atox mh kxteer lmxi ni hnk ztfx by px ptgm mh dxxi hnk fxlltzxl ltyx.\"))"
   ]
  },
  {
   "cell_type": "markdown",
   "metadata": {},
   "source": [
    "#### Step 5: The Vigenère Cipher\n",
    "\n",
    "Great work! While you were working on the brute force cracking of the cipher, Vishal sent over another letter. That guy is a letter machine!\n",
    "\n",
    "            Salutations! As you can see, technology has made brute forcing simple ciphers like the Caesar Cipher extremely easy, and us crypto-enthusiasts have had to get more creative and use more complicated ciphers. This next cipher I'm going to teach you is the Vigenère Cipher, invented by an Italian cryptologist named Giovan Battista Bellaso (cool name eh?) in the 16th century, but named after another cryptologist from the 16th century, Blaise de Vigenère.\n",
    "            \n",
    "           The Vigenère Cipher is a polyalphabetic substitution cipher, as opposed to the Caesar Cipher which was a monoalphabetic substitution cipher. What this means is that opposed to having a single shift that is applied to every letter, the Vigenère Cipher has a different shift for each individual letter. The value of the shift for each letter is determined by a given keyword.\n",
    "           \n",
    "           Consider the message\n",
    "           \n",
    "               barry is the spy\n",
    "\n",
    "           If we want to code this message, first we choose a keyword. For this example, we'll use the keyword\n",
    "           \n",
    "               dog\n",
    "               \n",
    "           Now we use the repeat the keyword over and over to generate a _keyword phrase_ that is the same length as the message we want to code. So if we want to code the message \"barry is the spy\" our _keyword phrase_ is \"dogdo gd ogd ogd\". Now we are ready to start coding our message. We shift the each letter of our message by the place value of the corresponding letter in the keyword phrase, assuming that \"a\" has a place value of 0, \"b\" has a place value of 1, and so forth. Remember, we zero-index because this is Python we're talking about!\n",
    "\n",
    "                        message:       b  a  r  r  y    i  s   t  h  e   s  p  y\n",
    "                \n",
    "                 keyword phrase:       d  o  g  d  o    g  d   o  g  d   o  g  d\n",
    "                 \n",
    "          resulting place value:       4  14 15 12 16   24 11  21 25 22  22 17 5\n",
    "      \n",
    "            So we shift \"b\", which has an index of 1, by the index of \"d\", which is 3. This gives us an place value of 4, which is \"e\". Then continue the trend: we shift \"a\" by the place value of \"o\", 14, and get \"o\" again, we shift \"r\" by the place value of \"g\", 15, and get \"x\", shift the next \"r\" by 12 places and \"u\", and so forth. Once we complete all the shifts we end up with our coded message:\n",
    "            \n",
    "                eoxum ov hnh gvb\n",
    "                \n",
    "            As you can imagine, this is a lot harder to crack without knowing the keyword! So now comes the hard part. I'll give you a message and the keyword, and you'll see if you can figure out how to crack it! Ready? Okay here's my message:\n",
    "            \n",
    "                dfc aruw fsti gr vjtwhr wznj? vmph otis! cbx swv jipreneo uhllj kpi rahjib eg fjdkwkedhmp!\n",
    "                \n",
    "            and the keyword to decode my message is \n",
    "            \n",
    "                friends\n",
    "                \n",
    "            Because that's what we are! Good luck friend!\n",
    "           \n",
    "And there it is. Vishal has given you quite the assignment this time! Try to decode his message. It may be helpful to create a function that takes two parameters, the coded message and the keyword and then work towards a solution from there.\n",
    "\n",
    "**NOTE:** Watch out for spaces and punctuation! When there's a space or punctuation mark in the original message, there should be a space/punctuation mark in the corresponding repeated-keyword string as well! "
   ]
  },
  {
   "cell_type": "code",
   "execution_count": 115,
   "metadata": {},
   "outputs": [
    {
     "name": "stdout",
     "output_type": "stream",
     "text": [
      "dfc aruw fsti gr vjtwhr wznj? vmph otis! cbx swv jipreneo uhllj kpi rahjib eg fjdkwkedhmp!\n",
      "fri ends frie nd sfrien dsfr? iend sfri! end sfr iendsfri endsf rie ndsfri en dsfriendsfr!\n",
      "[24, 14, 20, None, 22, 4, 17, 4, None, 0, 1, 11, 4, None, 19, 14, None, 3, 4, 2, 14, 3, 4, None, 19, 7, 8, 18, None, None, 13, 8, 2, 4, None, 22, 14, 17, 10, None, None, 24, 14, 20, None, 0, 17, 4, None, 1, 4, 2, 14, 12, 8, 13, 6, None, 16, 20, 8, 19, 4, None, 19, 7, 4, None, 4, 23, 15, 4, 17, 19, None, 0, 19, None, 2, 17, 24, 19, 14, 6, 17, 0, 15, 7, 24, None]\n",
      "you were able to decode this? nice work! you are becoming quite the expert at crytography!\n"
     ]
    }
   ],
   "source": [
    "def vigenere_decoder(message, keyword):\n",
    "    # define alphabet\n",
    "    alphabet = \"abcdefghijklmnopqrstuvwxyz\"\n",
    "    \n",
    "    # define keyword phrase and index\n",
    "    keyword_phrase = \"\"\n",
    "    keyword_index = 0\n",
    "    offset_list = []\n",
    "    for char in message:\n",
    "        if char in alphabet:\n",
    "            keyword_phrase += keyword[keyword_index]\n",
    "            offset = (alphabet.index(char) - alphabet.index(keyword[keyword_index])) % len(alphabet)\n",
    "            offset_list.append(offset)\n",
    "            keyword_index = (keyword_index + 1) % len(keyword)\n",
    "        else:\n",
    "            keyword_phrase += char\n",
    "            offset_list.append(None)\n",
    "            \n",
    "    # decode message using offset\n",
    "    decoded_message = \"\"\n",
    "    for i in range(len(message)):\n",
    "        if message[i] in alphabet:\n",
    "            offsetted = offset_list[i]\n",
    "            decoded_message += alphabet[offsetted]\n",
    "        else:\n",
    "            decoded_message += message[i]\n",
    "    \n",
    "    return message + \"\\n\" + keyword_phrase + \"\\n\" + str(offset_list) + \"\\n\" + decoded_message\n",
    "\n",
    "# example case\n",
    "print(vigenere_decoder(\"dfc aruw fsti gr vjtwhr wznj? vmph otis! cbx swv jipreneo uhllj kpi rahjib eg fjdkwkedhmp!\", \"friends\"))"
   ]
  },
  {
   "cell_type": "markdown",
   "metadata": {
    "collapsed": true
   },
   "source": [
    "#### Step 6: Send a message with the  Vigenère Cipher\n",
    "Great work decoding the message. For your final task, write a function that can encode a message using a given keyword and write out a message to send to Vishal!\n",
    "\n",
    "*As a bonus, try calling your decoder function on the result of your encryption function. You should get the original message back!*"
   ]
  },
  {
   "cell_type": "code",
   "execution_count": 112,
   "metadata": {},
   "outputs": [
    {
     "name": "stdout",
     "output_type": "stream",
     "text": [
      "you were able to decode this? nice work! you are becoming quite the expert at crytography!\n",
      "fri ends frie nd sfrien dsfr? iend sfri! end sfr iendsfri endsf rie ndsfri en dsfriendsfr!\n",
      "[19, 23, 12, None, 18, 17, 14, 12, None, 21, 10, 3, 0, None, 6, 11, None, 11, 25, 11, 6, 25, 17, None, 16, 15, 3, 1, None, None, 5, 4, 15, 1, None, 4, 9, 0, 2, None, None, 20, 1, 17, None, 8, 12, 13, None, 19, 0, 15, 11, 20, 3, 22, 24, None, 12, 7, 5, 1, 25, None, 2, 25, 0, None, 17, 20, 23, 25, 0, 11, None, 22, 6, None, 25, 25, 19, 2, 6, 2, 4, 23, 23, 2, 7, None]\n",
      "txm srom vkda gl lzlgzr qpdb? fepb ejac! ubr imn tapludwy mhfbz cza ruxzal wg zztcgcexxch!\n"
     ]
    }
   ],
   "source": [
    "print(vigenere_decoder(\"you were able to decode this? nice work! you are becoming quite the expert at crytography!\", \"friends\"))"
   ]
  },
  {
   "cell_type": "markdown",
   "metadata": {},
   "source": [
    "#### Conclusion\n",
    "Over the course of this project you've learned about two different cipher methods and have used your Python skills to code and decode messages. There are all types of other facinating ciphers out there to explore, and Python is the perfect language to implement them with, so go exploring! "
   ]
  }
 ],
 "metadata": {
  "kernelspec": {
   "display_name": "Python 3",
   "language": "python",
   "name": "python3"
  },
  "language_info": {
   "codemirror_mode": {
    "name": "ipython",
    "version": 3
   },
   "file_extension": ".py",
   "mimetype": "text/x-python",
   "name": "python",
   "nbconvert_exporter": "python",
   "pygments_lexer": "ipython3",
   "version": "3.8.3"
  }
 },
 "nbformat": 4,
 "nbformat_minor": 2
}
